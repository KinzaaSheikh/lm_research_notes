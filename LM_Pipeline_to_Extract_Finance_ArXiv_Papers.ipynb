{
  "nbformat": 4,
  "nbformat_minor": 0,
  "metadata": {
    "colab": {
      "provenance": [],
      "authorship_tag": "ABX9TyMxpIqMxg2tlJ5QuvvnMthu",
      "include_colab_link": true
    },
    "kernelspec": {
      "name": "python3",
      "display_name": "Python 3"
    },
    "language_info": {
      "name": "python"
    }
  },
  "cells": [
    {
      "cell_type": "markdown",
      "metadata": {
        "id": "view-in-github",
        "colab_type": "text"
      },
      "source": [
        "<a href=\"https://colab.research.google.com/github/KinzaaSheikh/lm_research_notes/blob/main/LM_Pipeline_to_Extract_Finance_ArXiv_Papers.ipynb\" target=\"_parent\"><img src=\"https://colab.research.google.com/assets/colab-badge.svg\" alt=\"Open In Colab\"/></a>"
      ]
    },
    {
      "cell_type": "code",
      "execution_count": null,
      "metadata": {
        "id": "clTeyWZjhd6s"
      },
      "outputs": [],
      "source": [
        "!pip install -qU umap-learn bertopic hdbscan sentence-transformers"
      ]
    },
    {
      "cell_type": "markdown",
      "source": [
        "# Step 1: Load ArXiv Data and Extract Finance-related Papers"
      ],
      "metadata": {
        "id": "zv0E-iONkfNk"
      }
    },
    {
      "cell_type": "code",
      "source": [
        "from datasets import load_dataset\n",
        "\n",
        "# Load ArXiv data\n",
        "dataset = load_dataset(\"maartengr/arxiv_nlp\")[\"train\"]"
      ],
      "metadata": {
        "id": "Pvud8u-Th_4I"
      },
      "execution_count": null,
      "outputs": []
    },
    {
      "cell_type": "code",
      "source": [
        "# Filter finance-related abstracts (quick keyword search)\n",
        "finance_keywords = [\"finance\", \"financial\", \"economics\", \"market\", \"investment\", \"risk\", \"trading\"]\n",
        "\n",
        "finance_data = [\n",
        "    (title, abstract)\n",
        "    for title, abstract in zip(dataset[\"Titles\"], dataset[\"Abstracts\"])\n",
        "    if any(kw.lower() in (title + \" \" + abstract).lower() for kw in finance_keywords)\n",
        "]\n",
        "\n",
        "titles, abstracts = zip(*finance_data)"
      ],
      "metadata": {
        "id": "SypUl3WGih_a"
      },
      "execution_count": null,
      "outputs": []
    },
    {
      "cell_type": "markdown",
      "source": [
        "# Step 2: Embed Documents"
      ],
      "metadata": {
        "id": "Wf1nPwulipp2"
      }
    },
    {
      "cell_type": "code",
      "source": [
        "from sentence_transformers import SentenceTransformer\n",
        "\n",
        "embedding_model = SentenceTransformer(\"thenlper/gte-small\")\n",
        "embeddings = embedding_model.encode(abstracts, show_progress_bar=True)"
      ],
      "metadata": {
        "id": "OfY3CyllipG4"
      },
      "execution_count": null,
      "outputs": []
    },
    {
      "cell_type": "markdown",
      "source": [
        "# Step 3: Dimensionality Reduction & Clustering"
      ],
      "metadata": {
        "id": "eKI0-nR3kqh-"
      }
    },
    {
      "cell_type": "code",
      "source": [
        "from umap import UMAP\n",
        "from hdbscan import HDBSCAN\n",
        "\n",
        "umap_model = UMAP(n_components=10, min_dist=0.1, metric=\"cosine\", random_state=42)\n",
        "reduced_embeddings_5d = umap_model.fit_transform(embeddings)\n",
        "\n",
        "hdbscan_model = HDBSCAN(min_cluster_size=10, metric=\"euclidean\", cluster_selection_method=\"eom\")\n",
        "clusters = hdbscan_model.fit_predict(reduced_embeddings_5d)\n"
      ],
      "metadata": {
        "id": "3juoGi4bkxW_"
      },
      "execution_count": null,
      "outputs": []
    },
    {
      "cell_type": "markdown",
      "source": [
        "# Step 4: Topic Modeling with BERTopic"
      ],
      "metadata": {
        "id": "QZOFQHk-lBPK"
      }
    },
    {
      "cell_type": "code",
      "source": [
        "from bertopic import BERTopic\n",
        "\n",
        "topic_model = BERTopic(\n",
        "    embedding_model=embedding_model,\n",
        "    umap_model=umap_model,\n",
        "    hdbscan_model=hdbscan_model,\n",
        "    verbose=True\n",
        ").fit(abstracts, embeddings)\n",
        "\n",
        "topic_info = topic_model.get_topic_info()\n",
        "topic_info.head()"
      ],
      "metadata": {
        "id": "5N1IdoflinBN"
      },
      "execution_count": null,
      "outputs": []
    },
    {
      "cell_type": "markdown",
      "source": [
        "# Step 5: Exploration"
      ],
      "metadata": {
        "id": "2EAZBM8qlMaM"
      }
    },
    {
      "cell_type": "code",
      "source": [
        "topic_model.find_topics(\"financial markets\")"
      ],
      "metadata": {
        "id": "smH3cYGLlEvb"
      },
      "execution_count": null,
      "outputs": []
    },
    {
      "cell_type": "code",
      "source": [
        "topic_model.find_topics(\"risk management\")"
      ],
      "metadata": {
        "id": "W57GTdw8lR7K"
      },
      "execution_count": null,
      "outputs": []
    },
    {
      "cell_type": "code",
      "source": [
        "topic_model.find_topics(\"cryptocurrency\")"
      ],
      "metadata": {
        "id": "TRxjOhPAlTtO"
      },
      "execution_count": null,
      "outputs": []
    },
    {
      "cell_type": "code",
      "source": [
        "# inspect\n",
        "\n",
        "topic_model.get_topic(5)"
      ],
      "metadata": {
        "id": "ZG8ApCkmlVdg"
      },
      "execution_count": null,
      "outputs": []
    },
    {
      "cell_type": "markdown",
      "source": [
        "# Step 6: Visualization"
      ],
      "metadata": {
        "id": "5hGfFPPhlbRI"
      }
    },
    {
      "cell_type": "code",
      "source": [
        "fig = topic_model.visualize_topics()\n",
        "fig.show()"
      ],
      "metadata": {
        "id": "HxeBEYvdlZNC"
      },
      "execution_count": null,
      "outputs": []
    },
    {
      "cell_type": "code",
      "source": [
        "fig2 = topic_model.visualize_barchart(top_n_topics=15)\n",
        "fig2.show()"
      ],
      "metadata": {
        "id": "XB3F7qHylft-"
      },
      "execution_count": null,
      "outputs": []
    }
  ]
}